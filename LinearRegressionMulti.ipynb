{
 "cells": [
  {
   "cell_type": "code",
   "execution_count": 1,
   "id": "36002831",
   "metadata": {},
   "outputs": [],
   "source": [
    "import numpy as np\n",
    "import matplotlib.pyplot as plt\n",
    "%matplotlib inline"
   ]
  },
  {
   "cell_type": "code",
   "execution_count": 2,
   "id": "b07bd08f",
   "metadata": {},
   "outputs": [],
   "source": [
    "data = np.loadtxt('/home/meetspar/Desktop/DSA/ML/Data/ex1data2.txt', delimiter=',')"
   ]
  },
  {
   "cell_type": "code",
   "execution_count": 3,
   "id": "0b0bee19",
   "metadata": {},
   "outputs": [],
   "source": [
    "X = data[:,0:2]\n",
    "y = data[:,2]\n",
    "\n",
    "m, n = X.shape\n",
    "ones = np.ones(m).reshape(m,1)\n",
    "\n",
    "X = np.append(ones, X, axis=1)\n",
    "theta = np.zeros(n+1)\n",
    "\n",
    "mu = np.mean(X[:,1])\n",
    "sig = np.std(X[:,1], ddof=1)\n",
    "X[:,1] = (X[:,1]-mu)/sig"
   ]
  },
  {
   "cell_type": "code",
   "execution_count": 4,
   "id": "d5b4fea0",
   "metadata": {},
   "outputs": [],
   "source": [
    "def cost(X, y, theta):\n",
    "    h = np.dot(X, theta)\n",
    "    b = h-y\n",
    "    \n",
    "    return (0.5/m)*np.sum(b**2)"
   ]
  },
  {
   "cell_type": "code",
   "execution_count": 5,
   "id": "53d2de85",
   "metadata": {},
   "outputs": [
    {
     "data": {
      "text/plain": [
       "65591548106.45744"
      ]
     },
     "execution_count": 5,
     "metadata": {},
     "output_type": "execute_result"
    }
   ],
   "source": [
    "cost(X, y, theta)"
   ]
  },
  {
   "cell_type": "code",
   "execution_count": 6,
   "id": "61f6c565",
   "metadata": {},
   "outputs": [],
   "source": [
    "def gradient(X, y, theta, alpha, n_iters):\n",
    "    theta = theta.copy()\n",
    "    j = []\n",
    "    \n",
    "    for i in range(n_iters):\n",
    "        theta -= alpha*np.dot(X.T, np.dot(X, theta)-y)/m\n",
    "        j.append(cost(X, y, theta))\n",
    "    return theta, j"
   ]
  },
  {
   "cell_type": "code",
   "execution_count": 7,
   "id": "6385bb0b",
   "metadata": {},
   "outputs": [],
   "source": [
    "theta2, j2 = gradient(X, y, theta, 0.15, 400)"
   ]
  },
  {
   "cell_type": "code",
   "execution_count": 8,
   "id": "578f2bd6",
   "metadata": {},
   "outputs": [],
   "source": [
    "a = np.array([1, 2, 3])"
   ]
  },
  {
   "cell_type": "code",
   "execution_count": 9,
   "id": "675be0c1",
   "metadata": {},
   "outputs": [
    {
     "data": {
      "text/plain": [
       "0.14893617021276595"
      ]
     },
     "execution_count": 9,
     "metadata": {},
     "output_type": "execute_result"
    }
   ],
   "source": [
    "(0.5/m)*np.sum(a**2)"
   ]
  },
  {
   "cell_type": "code",
   "execution_count": 10,
   "id": "f8f15c55",
   "metadata": {},
   "outputs": [
    {
     "data": {
      "text/plain": [
       "[<matplotlib.lines.Line2D at 0x7f8cab106590>]"
      ]
     },
     "execution_count": 10,
     "metadata": {},
     "output_type": "execute_result"
    },
    {
     "data": {
      "image/png": "[encoded data removed]",
      "text/plain": [
       "<Figure size 640x480 with 1 Axes>"
      ]
     },
     "metadata": {},
     "output_type": "display_data"
    }
   ],
   "source": [
    "plt.plot(range(1, 401), j2, color='b')"
   ]
  },
  {
   "cell_type": "code",
   "execution_count": 11,
   "id": "d93cca8f",
   "metadata": {},
   "outputs": [
    {
     "data": {
      "text/plain": [
       "array([322048.89228057, 104434.51264418,   5304.72625382])"
      ]
     },
     "execution_count": 11,
     "metadata": {},
     "output_type": "execute_result"
    }
   ],
   "source": [
    "theta2"
   ]
  },
  {
   "cell_type": "code",
   "execution_count": 12,
   "id": "c5225eee",
   "metadata": {},
   "outputs": [],
   "source": [
    "x = np.array([1, 1650, 3])"
   ]
  },
  {
   "cell_type": "code",
   "execution_count": 13,
   "id": "91f460f9",
   "metadata": {},
   "outputs": [],
   "source": [
    "def computeCost(X, y, theta):\n",
    "    b = np.dot(X, theta)-y\n",
    "    \n",
    "    return (0.5/m)*np.sum(b**2)\n",
    "    "
   ]
  },
  {
   "cell_type": "code",
   "execution_count": 14,
   "id": "784c5215",
   "metadata": {},
   "outputs": [],
   "source": [
    "def gradient(X, y, theta, alpha, n_iters):\n",
    "    j = []\n",
    "    theta = theta.copy()\n",
    "    for i in range(n_iters):\n",
    "        theta = theta-alpha*np.dot(X.T, np.dot(X, theta)-y)\n",
    "        j.append(computeCost(X, y, theta))\n",
    "    return theta, j"
   ]
  },
  {
   "cell_type": "code",
   "execution_count": 15,
   "id": "3a015b3e",
   "metadata": {},
   "outputs": [
    {
     "name": "stderr",
     "output_type": "stream",
     "text": [
      "/tmp/ipykernel_8660/284741323.py:4: RuntimeWarning: overflow encountered in square\n",
      "  return (0.5/m)*np.sum(b**2)\n",
      "/home/meetspar/.local/lib/python3.10/site-packages/numpy/core/fromnumeric.py:86: RuntimeWarning: overflow encountered in reduce\n",
      "  return ufunc.reduce(obj, axis, dtype, out, **passkwargs)\n"
     ]
    }
   ],
   "source": [
    "theta_f, j_f = gradient(X, y, theta, 0.1, 100)"
   ]
  },
  {
   "cell_type": "code",
   "execution_count": 16,
   "id": "9d138b0a",
   "metadata": {},
   "outputs": [],
   "source": [
    "x[1] = (1650-mu)/sig"
   ]
  },
  {
   "cell_type": "code",
   "execution_count": 17,
   "id": "f715c1f7",
   "metadata": {},
   "outputs": [
    {
     "data": {
      "text/plain": [
       "337963.0710420478"
      ]
     },
     "execution_count": 17,
     "metadata": {},
     "output_type": "execute_result"
    }
   ],
   "source": [
    "np.dot(x, theta2)"
   ]
  },
  {
   "cell_type": "code",
   "execution_count": 18,
   "id": "89becc4b",
   "metadata": {},
   "outputs": [
    {
     "data": {
      "text/plain": [
       "array([[ 1.00000000e+00,  1.30009869e-01,  3.00000000e+00],\n",
       "       [ 1.00000000e+00, -5.04189838e-01,  3.00000000e+00],\n",
       "       [ 1.00000000e+00,  5.02476364e-01,  3.00000000e+00],\n",
       "       [ 1.00000000e+00, -7.35723065e-01,  2.00000000e+00],\n",
       "       [ 1.00000000e+00,  1.25747602e+00,  4.00000000e+00],\n",
       "       [ 1.00000000e+00, -1.97317285e-02,  4.00000000e+00],\n",
       "       [ 1.00000000e+00, -5.87239800e-01,  3.00000000e+00],\n",
       "       [ 1.00000000e+00, -7.21881404e-01,  3.00000000e+00],\n",
       "       [ 1.00000000e+00, -7.81023044e-01,  3.00000000e+00],\n",
       "       [ 1.00000000e+00, -6.37573110e-01,  3.00000000e+00],\n",
       "       [ 1.00000000e+00, -7.63567023e-02,  4.00000000e+00],\n",
       "       [ 1.00000000e+00, -8.56737193e-04,  3.00000000e+00],\n",
       "       [ 1.00000000e+00, -1.39273340e-01,  3.00000000e+00],\n",
       "       [ 1.00000000e+00,  3.11729182e+00,  5.00000000e+00],\n",
       "       [ 1.00000000e+00, -9.21956312e-01,  3.00000000e+00],\n",
       "       [ 1.00000000e+00,  3.76643089e-01,  4.00000000e+00],\n",
       "       [ 1.00000000e+00, -8.56523009e-01,  2.00000000e+00],\n",
       "       [ 1.00000000e+00, -9.62222960e-01,  3.00000000e+00],\n",
       "       [ 1.00000000e+00,  7.65467909e-01,  4.00000000e+00],\n",
       "       [ 1.00000000e+00,  1.29648433e+00,  4.00000000e+00],\n",
       "       [ 1.00000000e+00, -2.94048269e-01,  3.00000000e+00],\n",
       "       [ 1.00000000e+00, -1.41790005e-01,  2.00000000e+00],\n",
       "       [ 1.00000000e+00, -4.99156507e-01,  3.00000000e+00],\n",
       "       [ 1.00000000e+00, -4.86733818e-02,  4.00000000e+00],\n",
       "       [ 1.00000000e+00,  2.37739217e+00,  3.00000000e+00],\n",
       "       [ 1.00000000e+00, -1.13335621e+00,  3.00000000e+00],\n",
       "       [ 1.00000000e+00, -6.82873089e-01,  3.00000000e+00],\n",
       "       [ 1.00000000e+00,  6.61026291e-01,  3.00000000e+00],\n",
       "       [ 1.00000000e+00,  2.50809813e-01,  3.00000000e+00],\n",
       "       [ 1.00000000e+00,  8.00701226e-01,  3.00000000e+00],\n",
       "       [ 1.00000000e+00, -2.03448310e-01,  2.00000000e+00],\n",
       "       [ 1.00000000e+00, -1.25918949e+00,  1.00000000e+00],\n",
       "       [ 1.00000000e+00,  4.94765729e-02,  4.00000000e+00],\n",
       "       [ 1.00000000e+00,  1.42986760e+00,  3.00000000e+00],\n",
       "       [ 1.00000000e+00, -2.38681627e-01,  4.00000000e+00],\n",
       "       [ 1.00000000e+00, -7.09298077e-01,  3.00000000e+00],\n",
       "       [ 1.00000000e+00, -9.58447962e-01,  3.00000000e+00],\n",
       "       [ 1.00000000e+00,  1.65243186e-01,  4.00000000e+00],\n",
       "       [ 1.00000000e+00,  2.78635031e+00,  4.00000000e+00],\n",
       "       [ 1.00000000e+00,  2.02993169e-01,  4.00000000e+00],\n",
       "       [ 1.00000000e+00, -4.23656542e-01,  2.00000000e+00],\n",
       "       [ 1.00000000e+00,  2.98626458e-01,  3.00000000e+00],\n",
       "       [ 1.00000000e+00,  7.12617934e-01,  4.00000000e+00],\n",
       "       [ 1.00000000e+00, -1.00752294e+00,  3.00000000e+00],\n",
       "       [ 1.00000000e+00, -1.44542274e+00,  2.00000000e+00],\n",
       "       [ 1.00000000e+00, -1.87089985e-01,  4.00000000e+00],\n",
       "       [ 1.00000000e+00, -1.00374794e+00,  3.00000000e+00]])"
      ]
     },
     "execution_count": 18,
     "metadata": {},
     "output_type": "execute_result"
    }
   ],
   "source": [
    "X"
   ]
  },
  {
   "cell_type": "code",
   "execution_count": 19,
   "id": "7b9828c6",
   "metadata": {},
   "outputs": [
    {
     "name": "stderr",
     "output_type": "stream",
     "text": [
      "/tmp/ipykernel_8660/284741323.py:4: RuntimeWarning: overflow encountered in square\n",
      "  return (0.5/m)*np.sum(b**2)\n"
     ]
    }
   ],
   "source": [
    "theta_f, j_f = gradient(X, y, theta, 0.1, 100)"
   ]
  },
  {
   "cell_type": "code",
   "execution_count": 20,
   "id": "67261ef8",
   "metadata": {},
   "outputs": [
    {
     "data": {
      "text/plain": [
       "65591548106.45744"
      ]
     },
     "execution_count": 20,
     "metadata": {},
     "output_type": "execute_result"
    }
   ],
   "source": [
    "computeCost(X, y, theta)"
   ]
  },
  {
   "cell_type": "code",
   "execution_count": 21,
   "id": "ef66ab4e",
   "metadata": {},
   "outputs": [
    {
     "data": {
      "text/plain": [
       "array([0., 0., 0.])"
      ]
     },
     "execution_count": 21,
     "metadata": {},
     "output_type": "execute_result"
    }
   ],
   "source": [
    "theta"
   ]
  },
  {
   "cell_type": "code",
   "execution_count": null,
   "id": "76f3591a",
   "metadata": {},
   "outputs": [],
   "source": []
  },
  {
   "cell_type": "code",
   "execution_count": null,
   "id": "80ba3791",
   "metadata": {},
   "outputs": [],
   "source": []
  },
  {
   "cell_type": "code",
   "execution_count": null,
   "id": "bae3c1fd",
   "metadata": {},
   "outputs": [],
   "source": []
  }
 ],
 "metadata": {
  "kernelspec": {
   "display_name": "Python 3 (ipykernel)",
   "language": "python",
   "name": "python3"
  },
  "language_info": {
   "codemirror_mode": {
    "name": "ipython",
    "version": 3
   },
   "file_extension": ".py",
   "mimetype": "text/x-python",
   "name": "python",
   "nbconvert_exporter": "python",
   "pygments_lexer": "ipython3",
   "version": "3.10.9"
  }
 },
 "nbformat": 4,
 "nbformat_minor": 5
}
