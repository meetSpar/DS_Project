{
 "cells": [
  {
   "cell_type": "code",
   "execution_count": 1,
   "id": "98528af7",
   "metadata": {},
   "outputs": [],
   "source": [
    "import numpy as np\n",
    "import matplotlib.pyplot as plt\n",
    "%matplotlib inline"
   ]
  },
  {
   "cell_type": "code",
   "execution_count": 2,
   "id": "67589552",
   "metadata": {},
   "outputs": [],
   "source": [
    "data = np.loadtxt('/home/meetspar/Untitled Folder/Data_Set/21-08 Heat Transfer exp.csv', delimiter=',', dtype='str', skiprows=1)"
   ]
  },
  {
   "cell_type": "code",
   "execution_count": 3,
   "id": "091e759f",
   "metadata": {},
   "outputs": [],
   "source": [
    "data = data.astype(float)"
   ]
  },
  {
   "cell_type": "code",
   "execution_count": 4,
   "id": "723f5c80",
   "metadata": {},
   "outputs": [],
   "source": [
    "X = data[:,0]\n",
    "y = data[:,1]\n",
    "\n",
    "m = X.size\n",
    "\n",
    "X = np.stack([np.ones(m), X], axis=1)\n",
    "theta = np.zeros(2)"
   ]
  },
  {
   "cell_type": "code",
   "execution_count": 5,
   "id": "ac8a0781",
   "metadata": {},
   "outputs": [],
   "source": [
    "def normalize(X, y):\n",
    "    mu_x  = np.mean(X[:,1])\n",
    "    sig_x = np.std(X[:,1])\n",
    "    X[:,1] = (X[:,1]-mu_x)/sig_x\n",
    "    \n",
    "    mu_y  = np.mean(y)\n",
    "    sig_y = np.std(y)\n",
    "    y = (y-mu_y)/sig_y\n",
    "    \n",
    "    print(sig_x, sig_y, mu_x, mu_y)\n",
    "    \n",
    "    return X, y"
   ]
  },
  {
   "cell_type": "code",
   "execution_count": null,
   "id": "f1424c21",
   "metadata": {},
   "outputs": [],
   "source": []
  },
  {
   "cell_type": "code",
   "execution_count": 6,
   "id": "1e5ecd4a",
   "metadata": {},
   "outputs": [
    {
     "name": "stdout",
     "output_type": "stream",
     "text": [
      "291.547594742265 8.471939647798584 500.0 47.29900990099011\n"
     ]
    }
   ],
   "source": [
    "X, y = normalize(X, y)"
   ]
  },
  {
   "cell_type": "code",
   "execution_count": 7,
   "id": "8e4dbd1c",
   "metadata": {},
   "outputs": [],
   "source": [
    "def plot_data(X, y):\n",
    "    plt.plot(X[:, 1], y, '.')"
   ]
  },
  {
   "cell_type": "code",
   "execution_count": 8,
   "id": "69433117",
   "metadata": {},
   "outputs": [
    {
     "data": {
      "image/png": "[encoded data removed]",
      "text/plain": [
       "<Figure size 640x480 with 1 Axes>"
      ]
     },
     "metadata": {},
     "output_type": "display_data"
    }
   ],
   "source": [
    "plot_data(X, y)"
   ]
  },
  {
   "cell_type": "code",
   "execution_count": 9,
   "id": "6645ddfc",
   "metadata": {},
   "outputs": [
    {
     "data": {
      "text/plain": [
       "array([[ 1.        , -1.71498585],\n",
       "       [ 1.        , -1.68068613],\n",
       "       [ 1.        , -1.64638642],\n",
       "       [ 1.        , -1.6120867 ],\n",
       "       [ 1.        , -1.57778698],\n",
       "       [ 1.        , -1.54348727],\n",
       "       [ 1.        , -1.50918755],\n",
       "       [ 1.        , -1.47488783],\n",
       "       [ 1.        , -1.44058812],\n",
       "       [ 1.        , -1.4062884 ],\n",
       "       [ 1.        , -1.37198868],\n",
       "       [ 1.        , -1.33768896],\n",
       "       [ 1.        , -1.30338925],\n",
       "       [ 1.        , -1.26908953],\n",
       "       [ 1.        , -1.23478981],\n",
       "       [ 1.        , -1.2004901 ],\n",
       "       [ 1.        , -1.16619038],\n",
       "       [ 1.        , -1.13189066],\n",
       "       [ 1.        , -1.09759094],\n",
       "       [ 1.        , -1.06329123],\n",
       "       [ 1.        , -1.02899151],\n",
       "       [ 1.        , -0.99469179],\n",
       "       [ 1.        , -0.96039208],\n",
       "       [ 1.        , -0.92609236],\n",
       "       [ 1.        , -0.89179264],\n",
       "       [ 1.        , -0.85749293],\n",
       "       [ 1.        , -0.82319321],\n",
       "       [ 1.        , -0.78889349],\n",
       "       [ 1.        , -0.75459377],\n",
       "       [ 1.        , -0.72029406],\n",
       "       [ 1.        , -0.68599434],\n",
       "       [ 1.        , -0.65169462],\n",
       "       [ 1.        , -0.61739491],\n",
       "       [ 1.        , -0.58309519],\n",
       "       [ 1.        , -0.54879547],\n",
       "       [ 1.        , -0.51449576],\n",
       "       [ 1.        , -0.48019604],\n",
       "       [ 1.        , -0.44589632],\n",
       "       [ 1.        , -0.4115966 ],\n",
       "       [ 1.        , -0.37729689],\n",
       "       [ 1.        , -0.34299717],\n",
       "       [ 1.        , -0.30869745],\n",
       "       [ 1.        , -0.27439774],\n",
       "       [ 1.        , -0.24009802],\n",
       "       [ 1.        , -0.2057983 ],\n",
       "       [ 1.        , -0.17149859],\n",
       "       [ 1.        , -0.13719887],\n",
       "       [ 1.        , -0.10289915],\n",
       "       [ 1.        , -0.06859943],\n",
       "       [ 1.        , -0.03429972],\n",
       "       [ 1.        ,  0.        ],\n",
       "       [ 1.        ,  0.03429972],\n",
       "       [ 1.        ,  0.06859943],\n",
       "       [ 1.        ,  0.10289915],\n",
       "       [ 1.        ,  0.13719887],\n",
       "       [ 1.        ,  0.17149859],\n",
       "       [ 1.        ,  0.2057983 ],\n",
       "       [ 1.        ,  0.24009802],\n",
       "       [ 1.        ,  0.27439774],\n",
       "       [ 1.        ,  0.30869745],\n",
       "       [ 1.        ,  0.34299717],\n",
       "       [ 1.        ,  0.37729689],\n",
       "       [ 1.        ,  0.4115966 ],\n",
       "       [ 1.        ,  0.44589632],\n",
       "       [ 1.        ,  0.48019604],\n",
       "       [ 1.        ,  0.51449576],\n",
       "       [ 1.        ,  0.54879547],\n",
       "       [ 1.        ,  0.58309519],\n",
       "       [ 1.        ,  0.61739491],\n",
       "       [ 1.        ,  0.65169462],\n",
       "       [ 1.        ,  0.68599434],\n",
       "       [ 1.        ,  0.72029406],\n",
       "       [ 1.        ,  0.75459377],\n",
       "       [ 1.        ,  0.78889349],\n",
       "       [ 1.        ,  0.82319321],\n",
       "       [ 1.        ,  0.85749293],\n",
       "       [ 1.        ,  0.89179264],\n",
       "       [ 1.        ,  0.92609236],\n",
       "       [ 1.        ,  0.96039208],\n",
       "       [ 1.        ,  0.99469179],\n",
       "       [ 1.        ,  1.02899151],\n",
       "       [ 1.        ,  1.06329123],\n",
       "       [ 1.        ,  1.09759094],\n",
       "       [ 1.        ,  1.13189066],\n",
       "       [ 1.        ,  1.16619038],\n",
       "       [ 1.        ,  1.2004901 ],\n",
       "       [ 1.        ,  1.23478981],\n",
       "       [ 1.        ,  1.26908953],\n",
       "       [ 1.        ,  1.30338925],\n",
       "       [ 1.        ,  1.33768896],\n",
       "       [ 1.        ,  1.37198868],\n",
       "       [ 1.        ,  1.4062884 ],\n",
       "       [ 1.        ,  1.44058812],\n",
       "       [ 1.        ,  1.47488783],\n",
       "       [ 1.        ,  1.50918755],\n",
       "       [ 1.        ,  1.54348727],\n",
       "       [ 1.        ,  1.57778698],\n",
       "       [ 1.        ,  1.6120867 ],\n",
       "       [ 1.        ,  1.64638642],\n",
       "       [ 1.        ,  1.68068613],\n",
       "       [ 1.        ,  1.71498585]])"
      ]
     },
     "execution_count": 9,
     "metadata": {},
     "output_type": "execute_result"
    }
   ],
   "source": [
    "X"
   ]
  },
  {
   "cell_type": "code",
   "execution_count": 10,
   "id": "d6af0f4c",
   "metadata": {},
   "outputs": [],
   "source": [
    "def w(z, t):\n",
    "    return np.exp(-((z+1.71498585)/t)**2/2)"
   ]
  },
  {
   "cell_type": "code",
   "execution_count": 11,
   "id": "c621c427",
   "metadata": {},
   "outputs": [
    {
     "data": {
      "text/plain": [
       "array([1.00000000e+00, 9.99274047e-01, 9.97099350e-01, 9.93485365e-01,\n",
       "       9.88447783e-01, 9.82008407e-01, 9.74195000e-01, 9.65041085e-01,\n",
       "       9.54585704e-01, 9.42873144e-01, 9.29952620e-01, 9.15877932e-01,\n",
       "       9.00707095e-01, 8.84501939e-01, 8.67327689e-01, 8.49252531e-01,\n",
       "       8.30347160e-01, 8.10684325e-01, 7.90338364e-01, 7.69384739e-01,\n",
       "       7.47899578e-01, 7.25959220e-01, 7.03639771e-01, 6.81016679e-01,\n",
       "       6.58164320e-01, 6.35155609e-01, 6.12061633e-01, 5.88951311e-01,\n",
       "       5.65891075e-01, 5.42944594e-01, 5.20172512e-01, 4.97632229e-01,\n",
       "       4.75377714e-01, 4.53459340e-01, 4.31923767e-01, 4.10813843e-01,\n",
       "       3.90168544e-01, 3.70022943e-01, 3.50408207e-01, 3.31351623e-01,\n",
       "       3.12876649e-01, 2.95002990e-01, 2.77746695e-01, 2.61120278e-01,\n",
       "       2.45132850e-01, 2.29790275e-01, 2.15095336e-01, 2.01047908e-01,\n",
       "       1.87645148e-01, 1.74881688e-01, 1.62749832e-01, 1.51239760e-01,\n",
       "       1.40339727e-01, 1.30036266e-01, 1.20314389e-01, 1.11157780e-01,\n",
       "       1.02548988e-01, 9.44696065e-02, 8.69004552e-02, 7.98217442e-02,\n",
       "       7.32132340e-02, 6.70543854e-02, 6.13244973e-02, 5.60028365e-02,\n",
       "       5.10687548e-02, 4.65017962e-02, 4.22817939e-02, 3.83889557e-02,\n",
       "       3.48039398e-02, 3.15079200e-02, 2.84826424e-02, 2.57104712e-02,\n",
       "       2.31744273e-02, 2.08582180e-02, 1.87462589e-02, 1.68236892e-02,\n",
       "       1.50763801e-02, 1.34909376e-02, 1.20547001e-02, 1.07557302e-02,\n",
       "       9.58280402e-03, 8.52539538e-03, 7.57365764e-03, 6.71840260e-03,\n",
       "       5.95107739e-03, 5.26373949e-03, 4.64903047e-03, 4.10014877e-03,\n",
       "       3.61082178e-03, 3.17527766e-03, 2.78821706e-03, 2.44478497e-03,\n",
       "       2.14054307e-03, 1.87144252e-03, 1.63379751e-03, 1.42425969e-03,\n",
       "       1.23979349e-03, 1.07765250e-03, 9.35356873e-04, 8.10671977e-04,\n",
       "       7.01588072e-04])"
      ]
     },
     "execution_count": 11,
     "metadata": {},
     "output_type": "execute_result"
    }
   ],
   "source": [
    "w(X[:, 1], 0.9)"
   ]
  },
  {
   "cell_type": "code",
   "execution_count": 12,
   "id": "bc7920b7",
   "metadata": {},
   "outputs": [],
   "source": [
    "def cost(X, y, theta):\n",
    "    W = w(X[:,1], 0.5)\n",
    "    D = np.diag(W)\n",
    "    h = np.dot(X, theta)-y\n",
    "    \n",
    "    return (0.5/m)*np.trace(D*h*h)"
   ]
  },
  {
   "cell_type": "code",
   "execution_count": 13,
   "id": "d802ceda",
   "metadata": {},
   "outputs": [],
   "source": [
    "def gradient(X, y, theta, alpha, n_iters):\n",
    "    W = w(X[:,1], 0.5)\n",
    "    j = []\n",
    "    \n",
    "    for i in range(n_iters):\n",
    "        h = np.dot(X, theta)-y\n",
    "        theta = theta-alpha*np.dot(X.T, W*h)/m\n",
    "        j.append(cost(X, y, theta))\n",
    "    return theta, j"
   ]
  },
  {
   "cell_type": "code",
   "execution_count": 14,
   "id": "d5d353ac",
   "metadata": {},
   "outputs": [],
   "source": [
    "theta_f, j_f = gradient(X, y, theta, 1.2, 1000)"
   ]
  },
  {
   "cell_type": "code",
   "execution_count": 15,
   "id": "023ed230",
   "metadata": {},
   "outputs": [
    {
     "data": {
      "text/plain": [
       "[<matplotlib.lines.Line2D at 0x7f7010eceda0>]"
      ]
     },
     "execution_count": 15,
     "metadata": {},
     "output_type": "execute_result"
    },
    {
     "data": {
      "image/png": "[encoded data removed]",
      "text/plain": [
       "<Figure size 640x480 with 1 Axes>"
      ]
     },
     "metadata": {},
     "output_type": "display_data"
    }
   ],
   "source": [
    "plot_data(X, y)\n",
    "plt.plot(X[:,1],np.dot(X, theta_f), linestyle='-', color='r')"
   ]
  },
  {
   "cell_type": "code",
   "execution_count": 16,
   "id": "6ceffb2d",
   "metadata": {},
   "outputs": [
    {
     "data": {
      "text/plain": [
       "-0.48011525807022615"
      ]
     },
     "execution_count": 16,
     "metadata": {},
     "output_type": "execute_result"
    }
   ],
   "source": [
    "x = np.array([1, -0.68598])\n",
    "np.dot(x, theta_f)"
   ]
  },
  {
   "cell_type": "code",
   "execution_count": 17,
   "id": "47e6c122",
   "metadata": {},
   "outputs": [
    {
     "data": {
      "text/plain": [
       "array([0.62433399, 1.61003127])"
      ]
     },
     "execution_count": 17,
     "metadata": {},
     "output_type": "execute_result"
    }
   ],
   "source": [
    "theta_f"
   ]
  },
  {
   "cell_type": "code",
   "execution_count": 316,
   "id": "971cf322",
   "metadata": {},
   "outputs": [],
   "source": [
    "def computeCost(X, y, theta):\n",
    "    m = y.size\n",
    "    J = 0\n",
    "    b = np.dot(X, theta)-y\n",
    "    J = np.sum(b**2)\n",
    "    \n",
    "    return (0.5/m)*J"
   ]
  },
  {
   "cell_type": "code",
   "execution_count": 317,
   "id": "b0808b00",
   "metadata": {},
   "outputs": [],
   "source": [
    "b = np.dot(X, theta)-y"
   ]
  },
  {
   "cell_type": "code",
   "execution_count": 318,
   "id": "b69509d3",
   "metadata": {},
   "outputs": [
    {
     "data": {
      "text/plain": [
       "0.49999999999999994"
      ]
     },
     "execution_count": 318,
     "metadata": {},
     "output_type": "execute_result"
    }
   ],
   "source": [
    "(0.5/m)*np.sum(b**2)"
   ]
  },
  {
   "cell_type": "code",
   "execution_count": 319,
   "id": "c4bdd62d",
   "metadata": {},
   "outputs": [
    {
     "data": {
      "text/plain": [
       "array([-2.28979557, -2.08913314, -2.03011478, -1.98290009, -1.91207806,\n",
       "       -1.8530597 , -1.79404133, -1.74682664, -1.67600461, -1.61698625,\n",
       "       -1.55796789, -1.5107532 , -1.43993116, -1.3809128 , -1.33369811,\n",
       "       -1.28648342, -1.21566139, -1.15664302, -1.10942834, -1.05040997,\n",
       "       -1.00319528, -0.96778427, -0.9087659 , -0.84974754, -0.81433653,\n",
       "       -0.75531816, -0.70810347, -0.67269246, -0.6136741 , -0.57826308,\n",
       "       -0.53104839, -0.47203003, -0.42481534, -0.38940432, -0.33038596,\n",
       "       -0.30677861, -0.24776025, -0.22415291, -0.17693822, -0.1415272 ,\n",
       "       -0.09431251, -0.04709782, -0.03529415,  0.02372421,  0.04733156,\n",
       "        0.08274257,  0.12995726,  0.16536828,  0.2007793 ,  0.21258297,\n",
       "        0.27160133,  0.28340501,  0.31881602,  0.35422704,  0.36603071,\n",
       "        0.4132454 ,  0.42504907,  0.44865642,  0.48406744,  0.51947845,\n",
       "        0.55488947,  0.56669314,  0.59030049,  0.6257115 ,  0.64931885,\n",
       "        0.66112252,  0.70833721,  0.70833721,  0.73194456,  0.74374823,\n",
       "        0.77915924,  0.81457026,  0.81457026,  0.83817761,  0.86178495,\n",
       "        0.8853923 ,  0.90899964,  0.92080331,  0.94441066,  0.95621433,\n",
       "        0.968018  ,  0.97982168,  1.00342902,  1.02703636,  1.03884004,\n",
       "        1.05064371,  1.07425105,  1.08605473,  1.0978584 ,  1.12146574,\n",
       "        1.10966207,  1.12146574,  1.14507309,  1.15687676,  1.16868043,\n",
       "        1.16868043,  1.18048411,  1.19228778,  1.20409145,  1.20409145,\n",
       "        1.21589512])"
      ]
     },
     "execution_count": 319,
     "metadata": {},
     "output_type": "execute_result"
    }
   ],
   "source": [
    "y"
   ]
  },
  {
   "cell_type": "code",
   "execution_count": null,
   "id": "8444d621",
   "metadata": {},
   "outputs": [],
   "source": []
  },
  {
   "cell_type": "code",
   "execution_count": null,
   "id": "4afc8e69",
   "metadata": {},
   "outputs": [],
   "source": []
  },
  {
   "cell_type": "code",
   "execution_count": null,
   "id": "316c44b9",
   "metadata": {},
   "outputs": [],
   "source": []
  },
  {
   "cell_type": "code",
   "execution_count": null,
   "id": "fd59415b",
   "metadata": {},
   "outputs": [],
   "source": []
  },
  {
   "cell_type": "code",
   "execution_count": null,
   "id": "2b6e806a",
   "metadata": {},
   "outputs": [],
   "source": []
  }
 ],
 "metadata": {
  "kernelspec": {
   "display_name": "Python 3 (ipykernel)",
   "language": "python",
   "name": "python3"
  },
  "language_info": {
   "codemirror_mode": {
    "name": "ipython",
    "version": 3
   },
   "file_extension": ".py",
   "mimetype": "text/x-python",
   "name": "python",
   "nbconvert_exporter": "python",
   "pygments_lexer": "ipython3",
   "version": "3.10.9"
  }
 },
 "nbformat": 4,
 "nbformat_minor": 5
}
